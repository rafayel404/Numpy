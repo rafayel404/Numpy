{
  "nbformat": 4,
  "nbformat_minor": 0,
  "metadata": {
    "colab": {
      "provenance": [],
      "authorship_tag": "ABX9TyPvPvaDJtkS2VuLHhzRa5bb",
      "include_colab_link": true
    },
    "kernelspec": {
      "name": "python3",
      "display_name": "Python 3"
    },
    "language_info": {
      "name": "python"
    }
  },
  "cells": [
    {
      "cell_type": "markdown",
      "metadata": {
        "id": "view-in-github",
        "colab_type": "text"
      },
      "source": [
        "<a href=\"https://colab.research.google.com/github/rafayel404/Numpy/blob/main/Task_1_.ipynb\" target=\"_parent\"><img src=\"https://colab.research.google.com/assets/colab-badge.svg\" alt=\"Open In Colab\"/></a>"
      ]
    },
    {
      "cell_type": "code",
      "execution_count": 1,
      "metadata": {
        "id": "oSLZe5zYEd0g"
      },
      "outputs": [],
      "source": [
        "import numpy as np"
      ]
    },
    {
      "cell_type": "markdown",
      "source": [
        "# Q-1 Create a null vector of size 10 but the fifth value which is 1."
      ],
      "metadata": {
        "id": "6YjUdu-iE8rX"
      }
    },
    {
      "cell_type": "code",
      "source": [
        "a=np.empty(10)*np.nan\n",
        "a[4]=1\n",
        "a"
      ],
      "metadata": {
        "colab": {
          "base_uri": "https://localhost:8080/"
        },
        "id": "PP_3FYf0Ej3p",
        "outputId": "e1449311-1430-4e9a-acf9-679608e23158"
      },
      "execution_count": null,
      "outputs": [
        {
          "output_type": "execute_result",
          "data": {
            "text/plain": [
              "array([nan, nan, nan, nan,  1., nan, nan, nan, nan, nan])"
            ]
          },
          "metadata": {},
          "execution_count": 7
        }
      ]
    },
    {
      "cell_type": "markdown",
      "source": [
        "# Q-2 Ask user to input two numbers a, b. Write a program to generate a random array of shape (a, b) and print the array and avg of the array."
      ],
      "metadata": {
        "id": "86Wc0IZ_FWRQ"
      }
    },
    {
      "cell_type": "code",
      "source": [
        "a,b=map(int,input('Give numbers: ').split())\n",
        "arr=np.random.random((a,b))\n",
        "print(arr)\n",
        "print(arr.mean())\n"
      ],
      "metadata": {
        "colab": {
          "base_uri": "https://localhost:8080/"
        },
        "id": "u9JqC7ATEoKA",
        "outputId": "a87d5017-2ad8-4198-ffbf-cf72388d06cf"
      },
      "execution_count": null,
      "outputs": [
        {
          "output_type": "stream",
          "name": "stdout",
          "text": [
            "Give numbers: 2 3\n",
            "[[0.69833421 0.31590256 0.84770287]\n",
            " [0.11786806 0.82710334 0.06838427]]\n",
            "0.47921588565270495\n"
          ]
        }
      ]
    },
    {
      "cell_type": "markdown",
      "source": [
        "# Q-3Write a function to create a 2d array with 1 on the border and 0 inside. Take 2-D array shape as (a,b) as parameter to function."
      ],
      "metadata": {
        "id": "Wi-tPID3LtWx"
      }
    },
    {
      "cell_type": "code",
      "source": [
        "\n",
        "def border(a,b):\n",
        "  x=np.ones((a,b))\n",
        "  x[1:-1,1:-1]=0\n",
        "  return x\n",
        "a=border(4,5)\n",
        "print(a)\n"
      ],
      "metadata": {
        "colab": {
          "base_uri": "https://localhost:8080/"
        },
        "id": "kmKBAyK8Ez5I",
        "outputId": "0b7b8419-de02-4324-ae05-5202b62d19a0"
      },
      "execution_count": null,
      "outputs": [
        {
          "output_type": "stream",
          "name": "stdout",
          "text": [
            "[[1. 1. 1. 1. 1.]\n",
            " [1. 0. 0. 0. 1.]\n",
            " [1. 0. 0. 0. 1.]\n",
            " [1. 1. 1. 1. 1.]]\n"
          ]
        }
      ]
    },
    {
      "cell_type": "markdown",
      "source": [
        "# Q-4 Create a vector of size 10 with values ranging from 0 to 1, both excluded."
      ],
      "metadata": {
        "id": "3IxPeFxWM4d5"
      }
    },
    {
      "cell_type": "code",
      "source": [
        "np.linspace(0,1,12)[1:-1]"
      ],
      "metadata": {
        "colab": {
          "base_uri": "https://localhost:8080/"
        },
        "id": "qgtaZv4oMJwq",
        "outputId": "f011b920-04da-4b3d-d61e-63ca74c5d090"
      },
      "execution_count": null,
      "outputs": [
        {
          "output_type": "execute_result",
          "data": {
            "text/plain": [
              "array([0.09090909, 0.18181818, 0.27272727, 0.36363636, 0.45454545,\n",
              "       0.54545455, 0.63636364, 0.72727273, 0.81818182, 0.90909091])"
            ]
          },
          "metadata": {},
          "execution_count": 29
        }
      ]
    },
    {
      "cell_type": "markdown",
      "source": [
        "# Q-5 Can you create a identity mattrix of shape (3,4). If yes write code for it."
      ],
      "metadata": {
        "id": "SRnPYz1eQCMJ"
      }
    },
    {
      "cell_type": "code",
      "source": [
        "# No"
      ],
      "metadata": {
        "id": "Jp7sj3WPP7-Z"
      },
      "execution_count": null,
      "outputs": []
    },
    {
      "cell_type": "markdown",
      "source": [
        "# Create a 5x5 matrix with row values ranging from 0 to 4."
      ],
      "metadata": {
        "id": "NWj2TVq1SUyS"
      }
    },
    {
      "cell_type": "code",
      "source": [
        "np.random.randint(0,5,(5,5))"
      ],
      "metadata": {
        "colab": {
          "base_uri": "https://localhost:8080/"
        },
        "id": "hH7Ja8qOQITx",
        "outputId": "18041a80-373b-4014-8853-8ca6091caf48"
      },
      "execution_count": null,
      "outputs": [
        {
          "output_type": "execute_result",
          "data": {
            "text/plain": [
              "array([[2, 3, 0, 4, 2],\n",
              "       [4, 0, 1, 2, 0],\n",
              "       [2, 0, 3, 1, 3],\n",
              "       [2, 3, 0, 0, 4],\n",
              "       [0, 4, 3, 0, 4]])"
            ]
          },
          "metadata": {},
          "execution_count": 36
        }
      ]
    },
    {
      "cell_type": "code",
      "source": [
        "np.zeros((5,5))+np.arange(5)"
      ],
      "metadata": {
        "colab": {
          "base_uri": "https://localhost:8080/"
        },
        "id": "-DcWZ7-ZTiDK",
        "outputId": "730fe0d0-013a-4685-f135-197c3552314e"
      },
      "execution_count": null,
      "outputs": [
        {
          "output_type": "execute_result",
          "data": {
            "text/plain": [
              "array([[0., 1., 2., 3., 4.],\n",
              "       [0., 1., 2., 3., 4.],\n",
              "       [0., 1., 2., 3., 4.],\n",
              "       [0., 1., 2., 3., 4.],\n",
              "       [0., 1., 2., 3., 4.]])"
            ]
          },
          "metadata": {},
          "execution_count": 38
        }
      ]
    },
    {
      "cell_type": "markdown",
      "source": [
        "## Q-7: Consider a random integer (in range 1 to 100) vector with shape (10,2) representing coordinates, and coordinates of a point as array is given. Create an array of distance of each point in the random vectros from the given point. Distance array should be interger type."
      ],
      "metadata": {
        "id": "zWIAshgHUDgK"
      }
    },
    {
      "cell_type": "code",
      "source": [
        "x=np.random.randint(1,101,(10,2))\n",
        "a,b=map(int,input('Give input of coordinate: ').split())\n",
        "distance=[np.sqrt((a-x[:,0])**2 +(b-x[:,1])**2)]\n",
        "print(x)\n",
        "print(distance)\n"
      ],
      "metadata": {
        "colab": {
          "base_uri": "https://localhost:8080/"
        },
        "id": "zu3bsCdlT5cy",
        "outputId": "6f4ebb5a-60a7-4d6f-faa1-367bf7261a03"
      },
      "execution_count": null,
      "outputs": [
        {
          "output_type": "stream",
          "name": "stdout",
          "text": [
            "Give input of coordinate: 2 3\n",
            "[[71  1]\n",
            " [24 47]\n",
            " [86  4]\n",
            " [12 60]\n",
            " [31 63]\n",
            " [ 1 12]\n",
            " [98 32]\n",
            " [81 38]\n",
            " [90 51]\n",
            " [79  1]]\n",
            "[array([ 69.02897942,  49.1934955 ,  84.00595217,  57.87054518,\n",
            "        66.64082833,   9.05538514, 100.28459503,  86.40601831,\n",
            "       100.23971269,  77.02596965])]\n"
          ]
        }
      ]
    },
    {
      "cell_type": "code",
      "source": [
        "a = np.random.randint(1, 100, (10, 2))\n",
        "p = np.array([2,3])\n",
        "np.sqrt(np.sum((a-p)**2, axis=1)).astype(int)"
      ],
      "metadata": {
        "colab": {
          "base_uri": "https://localhost:8080/"
        },
        "id": "JrUbAKRr6bxC",
        "outputId": "cdfed6e8-333b-4b6a-84bf-a110e06be31d"
      },
      "execution_count": null,
      "outputs": [
        {
          "output_type": "execute_result",
          "data": {
            "text/plain": [
              "array([62, 86, 57, 82, 85, 44, 49, 92, 83, 86])"
            ]
          },
          "metadata": {},
          "execution_count": 50
        }
      ]
    },
    {
      "cell_type": "markdown",
      "source": [
        "## Q-8: Consider a (6,7,8) shape array, what is the index (x,y,z) of the 100th element?"
      ],
      "metadata": {
        "id": "tZQwPhmMWyC6"
      }
    },
    {
      "cell_type": "code",
      "source": [
        "np.unravel_index(100,(6,7,8))"
      ],
      "metadata": {
        "colab": {
          "base_uri": "https://localhost:8080/"
        },
        "id": "xTgVh80CUdEa",
        "outputId": "bd2353c6-4891-464b-883b-68db5f6ea2bb"
      },
      "execution_count": null,
      "outputs": [
        {
          "output_type": "execute_result",
          "data": {
            "text/plain": [
              "(np.int64(1), np.int64(5), np.int64(4))"
            ]
          },
          "metadata": {},
          "execution_count": 53
        }
      ]
    },
    {
      "cell_type": "markdown",
      "source": [
        "## You are given a space separated list of numbers. Your task is to print a reversed NumPy array with the element type float."
      ],
      "metadata": {
        "id": "ibrG9jNP8SGE"
      }
    },
    {
      "cell_type": "markdown",
      "source": [
        "1 2 3 4 -8 -10"
      ],
      "metadata": {
        "id": "8KW2Smkz8Zp7"
      }
    },
    {
      "cell_type": "code",
      "source": [
        "a=input().strip().split()\n",
        "np.array(a[::-1]).astype(float)"
      ],
      "metadata": {
        "colab": {
          "base_uri": "https://localhost:8080/"
        },
        "id": "lCuZ8-piVXHL",
        "outputId": "07a04172-8209-4088-9fc2-5e6dd18cfcad"
      },
      "execution_count": null,
      "outputs": [
        {
          "name": "stdout",
          "output_type": "stream",
          "text": [
            "1 2 3 4 -8 -10\n"
          ]
        },
        {
          "output_type": "execute_result",
          "data": {
            "text/plain": [
              "array([-10.,  -8.,   4.,   3.,   2.,   1.])"
            ]
          },
          "metadata": {},
          "execution_count": 57
        }
      ]
    },
    {
      "cell_type": "markdown",
      "source": [
        "## Count the number of elements of a numpy array."
      ],
      "metadata": {
        "id": "2aN9zb_Y91Cs"
      }
    },
    {
      "cell_type": "code",
      "source": [
        "a = np.array([])\n",
        "a = np.array([1, 2])\n",
        "a = np.zeros((2,3))\n",
        "a.size"
      ],
      "metadata": {
        "colab": {
          "base_uri": "https://localhost:8080/"
        },
        "id": "WbHU7PhgVYm6",
        "outputId": "b627a686-442e-4ba5-f84e-1747dcfc6276"
      },
      "execution_count": null,
      "outputs": [
        {
          "output_type": "execute_result",
          "data": {
            "text/plain": [
              "6"
            ]
          },
          "metadata": {},
          "execution_count": 58
        }
      ]
    },
    {
      "cell_type": "markdown",
      "source": [
        "Q-11: Softmax function\n",
        "Create a Python function to calculate the Softmax of the given numpy 1D array. The function only accepts the numpy 1D array, otherwise raise error.\n",
        "\n"
      ],
      "metadata": {
        "id": "73Srr1JQDZeN"
      }
    },
    {
      "cell_type": "code",
      "source": [
        "def softmax(arr):\n",
        "    if type(arr) != np.ndarray:\n",
        "        raise TypeError(\"Requires Numpy Array\")\n",
        "    elif arr.ndim > 1:\n",
        "        raise TypeError(\"Requires 1D Array\")\n",
        "    s = np.sum(np.exp(arr))\n",
        "    return np.exp(arr)/s\n",
        "softmax(np.array([86.03331084, 37.7285648,  48.64908087, 87.16563062, 38.40852563, 37.20006318]))"
      ],
      "metadata": {
        "colab": {
          "base_uri": "https://localhost:8080/"
        },
        "id": "GhA9B0Or81gE",
        "outputId": "970a2609-5307-4713-9bfd-1df47d38d1b4"
      },
      "execution_count": null,
      "outputs": [
        {
          "output_type": "execute_result",
          "data": {
            "text/plain": [
              "array([2.43733248e-01, 2.56112114e-22, 1.41628283e-17, 7.56266752e-01,\n",
              "       5.05514197e-22, 1.50974911e-22])"
            ]
          },
          "metadata": {},
          "execution_count": 59
        }
      ]
    },
    {
      "cell_type": "markdown",
      "source": [
        "Q-12: Vertical stack\n",
        "### Write a python function that accepts infinite number of numpy arrays and do the vertical stack to them. Then return that new array as result. The function only accepts the numpy array, otherwise raise error."
      ],
      "metadata": {
        "id": "uT5H72RxD9NE"
      }
    },
    {
      "cell_type": "code",
      "source": [
        "def vertical_stack(*args):\n",
        "    for i in args:\n",
        "        if type(i) != np.ndarray:\n",
        "            raise TypeError(\"Requires Numpy Array\")\n",
        "    return np.vstack(args)\n",
        "\n",
        "a = np.arange(10).reshape(2, -1)\n",
        "print(\"a=\",a)\n",
        "b = np.repeat(1, 10).reshape(2, -1)\n",
        "print(\"b=\",b)\n",
        "print(vertical_stack(a,b))\n",
        "c = np.random.random((2,5))\n",
        "print(\"c=\", c)\n",
        "vertical_stack(a,b,c)\n"
      ],
      "metadata": {
        "colab": {
          "base_uri": "https://localhost:8080/"
        },
        "id": "Hh8FnmEm84AL",
        "outputId": "cf629a2d-7a60-4153-cc32-21c8a00b0aa6"
      },
      "execution_count": null,
      "outputs": [
        {
          "output_type": "stream",
          "name": "stdout",
          "text": [
            "a= [[0 1 2 3 4]\n",
            " [5 6 7 8 9]]\n",
            "b= [[1 1 1 1 1]\n",
            " [1 1 1 1 1]]\n",
            "[[0 1 2 3 4]\n",
            " [5 6 7 8 9]\n",
            " [1 1 1 1 1]\n",
            " [1 1 1 1 1]]\n",
            "c= [[0.63892981 0.62084241 0.90789379 0.41321047 0.39457829]\n",
            " [0.77643035 0.45263223 0.99523867 0.81502123 0.02652615]]\n"
          ]
        },
        {
          "output_type": "execute_result",
          "data": {
            "text/plain": [
              "array([[0.        , 1.        , 2.        , 3.        , 4.        ],\n",
              "       [5.        , 6.        , 7.        , 8.        , 9.        ],\n",
              "       [1.        , 1.        , 1.        , 1.        , 1.        ],\n",
              "       [1.        , 1.        , 1.        , 1.        , 1.        ],\n",
              "       [0.63892981, 0.62084241, 0.90789379, 0.41321047, 0.39457829],\n",
              "       [0.77643035, 0.45263223, 0.99523867, 0.81502123, 0.02652615]])"
            ]
          },
          "metadata": {},
          "execution_count": 60
        }
      ]
    },
    {
      "cell_type": "markdown",
      "source": [
        "Q-13: Dates\n",
        "### Create a python function named date_array that accepts two dates as string format and returns a numpy array of dates between those 2 dates. The function only accept 2 strings, otherwise raise error. The date format should be like this only: 2022-12-6. The end date should be included and for simplicity, choose dates from a same year."
      ],
      "metadata": {
        "id": "MHbkw8hHF4Qc"
      }
    },
    {
      "cell_type": "code",
      "source": [],
      "metadata": {
        "colab": {
          "base_uri": "https://localhost:8080/"
        },
        "id": "ragMR4N2FRcN",
        "outputId": "750c6ca1-d9b4-49d3-e2a7-2814663d2166"
      },
      "execution_count": null,
      "outputs": [
        {
          "output_type": "stream",
          "name": "stdout",
          "text": [
            "a= [[0 1 2 3 4]\n",
            " [5 6 7 8 9]]\n"
          ]
        }
      ]
    },
    {
      "cell_type": "markdown",
      "source": [
        "### Q-14: Subtract the mean of each row from a matrix."
      ],
      "metadata": {
        "id": "NJUlpyEvLsWy"
      }
    },
    {
      "cell_type": "code",
      "source": [
        "x=np.random.randint(10,26,(3,5))\n",
        "x"
      ],
      "metadata": {
        "id": "swKONkc-FaIl",
        "colab": {
          "base_uri": "https://localhost:8080/"
        },
        "outputId": "b0f726af-4109-4a65-c392-0cfbe651a0eb"
      },
      "execution_count": 2,
      "outputs": [
        {
          "output_type": "execute_result",
          "data": {
            "text/plain": [
              "array([[10, 15, 22, 17, 23],\n",
              "       [15, 22, 24, 21, 19],\n",
              "       [14, 22, 13, 10, 17]])"
            ]
          },
          "metadata": {},
          "execution_count": 2
        }
      ]
    },
    {
      "cell_type": "code",
      "source": [
        "x-x.mean(axis=1, keepdims = True)"
      ],
      "metadata": {
        "colab": {
          "base_uri": "https://localhost:8080/"
        },
        "id": "QZR-YtLUMBCr",
        "outputId": "de05adbe-41a5-4520-ee6a-3cad65d60334"
      },
      "execution_count": 3,
      "outputs": [
        {
          "output_type": "execute_result",
          "data": {
            "text/plain": [
              "array([[-7.4, -2.4,  4.6, -0.4,  5.6],\n",
              "       [-5.2,  1.8,  3.8,  0.8, -1.2],\n",
              "       [-1.2,  6.8, -2.2, -5.2,  1.8]])"
            ]
          },
          "metadata": {},
          "execution_count": 3
        }
      ]
    },
    {
      "cell_type": "code",
      "source": [
        "x.mean(axis=1)"
      ],
      "metadata": {
        "colab": {
          "base_uri": "https://localhost:8080/"
        },
        "id": "qhMMMYVjMGor",
        "outputId": "006e396b-0751-4198-ff90-4150f887fbd1"
      },
      "execution_count": 4,
      "outputs": [
        {
          "output_type": "execute_result",
          "data": {
            "text/plain": [
              "array([17.4, 20.2, 15.2])"
            ]
          },
          "metadata": {},
          "execution_count": 4
        }
      ]
    },
    {
      "cell_type": "code",
      "source": [
        "x.mean(axis=1,keepdims=True)"
      ],
      "metadata": {
        "colab": {
          "base_uri": "https://localhost:8080/"
        },
        "id": "-XDZbLS8MJJ7",
        "outputId": "c06adfb3-6fdb-471b-e6f9-a97111f0806f"
      },
      "execution_count": 5,
      "outputs": [
        {
          "output_type": "execute_result",
          "data": {
            "text/plain": [
              "array([[17.4],\n",
              "       [20.2],\n",
              "       [15.2]])"
            ]
          },
          "metadata": {},
          "execution_count": 5
        }
      ]
    },
    {
      "cell_type": "markdown",
      "source": [
        "### Q-15: Swap column-1 of array with column-2 in the array."
      ],
      "metadata": {
        "id": "H7LlwXjiYGpI"
      }
    },
    {
      "cell_type": "code",
      "source": [
        "x=np.random.randint(10,26,(3,5))\n",
        "x"
      ],
      "metadata": {
        "colab": {
          "base_uri": "https://localhost:8080/"
        },
        "id": "YCPgSCOrYACZ",
        "outputId": "4e02d5dd-e130-4379-a9a3-22fe4df3e9aa"
      },
      "execution_count": 7,
      "outputs": [
        {
          "output_type": "execute_result",
          "data": {
            "text/plain": [
              "array([[13, 20, 13, 18, 16],\n",
              "       [18, 15, 12, 16, 18],\n",
              "       [23, 15, 20, 20, 10]])"
            ]
          },
          "metadata": {},
          "execution_count": 7
        }
      ]
    },
    {
      "cell_type": "code",
      "source": [
        "x[:,0]"
      ],
      "metadata": {
        "colab": {
          "base_uri": "https://localhost:8080/"
        },
        "id": "5ZafYYRPYtvq",
        "outputId": "200502a7-ca61-4964-9e21-d92b2b53ff8a"
      },
      "execution_count": 9,
      "outputs": [
        {
          "output_type": "execute_result",
          "data": {
            "text/plain": [
              "array([13, 18, 23])"
            ]
          },
          "metadata": {},
          "execution_count": 9
        }
      ]
    },
    {
      "cell_type": "code",
      "source": [
        "x[:,[0]] # this preserves dimension of column"
      ],
      "metadata": {
        "colab": {
          "base_uri": "https://localhost:8080/"
        },
        "id": "jSzjdx_BY0To",
        "outputId": "3d98e517-2005-47e3-a9a8-0ef43fa3f3f4"
      },
      "execution_count": 10,
      "outputs": [
        {
          "output_type": "execute_result",
          "data": {
            "text/plain": [
              "array([[13],\n",
              "       [18],\n",
              "       [23]])"
            ]
          },
          "metadata": {},
          "execution_count": 10
        }
      ]
    },
    {
      "cell_type": "code",
      "source": [
        "x[:,[0,2,1,3,4]]"
      ],
      "metadata": {
        "colab": {
          "base_uri": "https://localhost:8080/"
        },
        "id": "telsBho9Y_iR",
        "outputId": "c896e6dd-d080-41f1-a652-99d114a09cd9"
      },
      "execution_count": 19,
      "outputs": [
        {
          "output_type": "execute_result",
          "data": {
            "text/plain": [
              "array([[13, 13, 20, 18, 16],\n",
              "       [18, 12, 15, 16, 18],\n",
              "       [23, 20, 15, 20, 10]])"
            ]
          },
          "metadata": {},
          "execution_count": 19
        }
      ]
    },
    {
      "cell_type": "markdown",
      "source": [
        "## Q-16: Replace odd elements in arrays with -1."
      ],
      "metadata": {
        "id": "PYdhyWusa8w5"
      }
    },
    {
      "cell_type": "code",
      "source": [
        "a = np.arange(10)\n",
        "a\n"
      ],
      "metadata": {
        "colab": {
          "base_uri": "https://localhost:8080/"
        },
        "id": "OW48MYwMaKLp",
        "outputId": "6c7f0e8e-20c8-4adc-dc43-6931a26b846b"
      },
      "execution_count": 27,
      "outputs": [
        {
          "output_type": "execute_result",
          "data": {
            "text/plain": [
              "array([0, 1, 2, 3, 4, 5, 6, 7, 8, 9])"
            ]
          },
          "metadata": {},
          "execution_count": 27
        }
      ]
    },
    {
      "cell_type": "code",
      "source": [
        "a[a%2!=0]=-1\n",
        "a"
      ],
      "metadata": {
        "colab": {
          "base_uri": "https://localhost:8080/"
        },
        "id": "c8d9cYmLbLJa",
        "outputId": "de809b9a-34f6-46d3-be14-b97a04b38bb6"
      },
      "execution_count": 28,
      "outputs": [
        {
          "output_type": "execute_result",
          "data": {
            "text/plain": [
              "array([ 0, -1,  2, -1,  4, -1,  6, -1,  8, -1])"
            ]
          },
          "metadata": {},
          "execution_count": 28
        }
      ]
    },
    {
      "cell_type": "markdown",
      "source": [
        "### Q-17: Given two arrays of same shape make an array of max out of two arrays. (Numpy way)"
      ],
      "metadata": {
        "id": "ZokcF1rRb5_Z"
      }
    },
    {
      "cell_type": "code",
      "source": [
        "a=np.array([6,3,1,5,8])\n",
        "b=np.array([3,2,1,7,2])\n"
      ],
      "metadata": {
        "id": "U1AR-vpXbS_R"
      },
      "execution_count": 2,
      "outputs": []
    },
    {
      "cell_type": "code",
      "source": [
        "a>b"
      ],
      "metadata": {
        "colab": {
          "base_uri": "https://localhost:8080/"
        },
        "id": "q1t0O_macxia",
        "outputId": "6f4c3acf-2ff3-4a58-a5e0-3d1e776dc15b"
      },
      "execution_count": 3,
      "outputs": [
        {
          "output_type": "execute_result",
          "data": {
            "text/plain": [
              "array([ True,  True, False, False,  True])"
            ]
          },
          "metadata": {},
          "execution_count": 3
        }
      ]
    },
    {
      "cell_type": "code",
      "source": [
        "a[b>a]"
      ],
      "metadata": {
        "colab": {
          "base_uri": "https://localhost:8080/"
        },
        "id": "Fp1lFGAacy-5",
        "outputId": "2dd5dfa7-4700-43e9-b68f-fe7548db97df"
      },
      "execution_count": 7,
      "outputs": [
        {
          "output_type": "execute_result",
          "data": {
            "text/plain": [
              "array([5])"
            ]
          },
          "metadata": {},
          "execution_count": 7
        }
      ]
    },
    {
      "cell_type": "code",
      "source": [
        "b[a<b]"
      ],
      "metadata": {
        "colab": {
          "base_uri": "https://localhost:8080/"
        },
        "id": "8dVbaj-fdFwy",
        "outputId": "f22175fc-7f92-4e4b-a979-602163fcf449"
      },
      "execution_count": 8,
      "outputs": [
        {
          "output_type": "execute_result",
          "data": {
            "text/plain": [
              "array([7])"
            ]
          },
          "metadata": {},
          "execution_count": 8
        }
      ]
    },
    {
      "cell_type": "code",
      "source": [
        "a=np.array([6,3,1,5,8])\n",
        "b=np.array([3,2,1,7,2])\n",
        "\n",
        "a[b>a] = b[a<b]\n",
        "a"
      ],
      "metadata": {
        "colab": {
          "base_uri": "https://localhost:8080/"
        },
        "id": "fMgThTy7c2dy",
        "outputId": "e7516288-c5af-482a-b895-0c43d26fc86b"
      },
      "execution_count": 11,
      "outputs": [
        {
          "output_type": "execute_result",
          "data": {
            "text/plain": [
              "array([6, 3, 1, 7, 8])"
            ]
          },
          "metadata": {},
          "execution_count": 11
        }
      ]
    },
    {
      "cell_type": "markdown",
      "source": [
        "## Q-18 Answer below asked questions on given array:\n",
        "Fetch Every alternate column of the array\n",
        "### Normalise the given array"
      ],
      "metadata": {
        "id": "KqrDNYVBr9bb"
      }
    },
    {
      "cell_type": "code",
      "source": [
        "arr1=np.random.randint(low=1, high=10000, size=40).reshape(8,5)\n",
        "arr1"
      ],
      "metadata": {
        "colab": {
          "base_uri": "https://localhost:8080/"
        },
        "id": "67csKC1vqPM7",
        "outputId": "2f16469e-9a02-4580-a8c8-cf9ce0d11864"
      },
      "execution_count": 13,
      "outputs": [
        {
          "output_type": "execute_result",
          "data": {
            "text/plain": [
              "array([[6011, 4123, 1509, 6497, 6485],\n",
              "       [4454,  585, 3720,   53, 5637],\n",
              "       [4365, 1873, 4028,  915, 4348],\n",
              "       [2105, 3348, 5896,  459, 2756],\n",
              "       [9280,  486, 3187, 6007, 2468],\n",
              "       [6742, 9987, 4263, 4421, 7177],\n",
              "       [9334, 9910, 5985, 4637, 1610],\n",
              "       [6912, 6516, 8950, 6353, 6159]])"
            ]
          },
          "metadata": {},
          "execution_count": 13
        }
      ]
    },
    {
      "cell_type": "code",
      "source": [
        "arr1[:, ::2]"
      ],
      "metadata": {
        "colab": {
          "base_uri": "https://localhost:8080/"
        },
        "id": "in21RmE-sEMj",
        "outputId": "c07368a2-949a-4c39-a755-223f3f797ac2"
      },
      "execution_count": 14,
      "outputs": [
        {
          "output_type": "execute_result",
          "data": {
            "text/plain": [
              "array([[6011, 1509, 6485],\n",
              "       [4454, 3720, 5637],\n",
              "       [4365, 4028, 4348],\n",
              "       [2105, 5896, 2756],\n",
              "       [9280, 3187, 2468],\n",
              "       [6742, 4263, 7177],\n",
              "       [9334, 5985, 1610],\n",
              "       [6912, 8950, 6159]])"
            ]
          },
          "metadata": {},
          "execution_count": 14
        }
      ]
    },
    {
      "cell_type": "code",
      "source": [
        "(arr1 - arr1.min())/(arr1.max() - arr1.min())"
      ],
      "metadata": {
        "colab": {
          "base_uri": "https://localhost:8080/"
        },
        "id": "O_JaG9YisJUy",
        "outputId": "9e5b33da-ac18-480e-c9ee-ec7c08ce3208"
      },
      "execution_count": 15,
      "outputs": [
        {
          "output_type": "execute_result",
          "data": {
            "text/plain": [
              "array([[0.59975841, 0.40970405, 0.14656734, 0.6486813 , 0.64747332],\n",
              "       [0.44302396, 0.05355345, 0.3691363 , 0.        , 0.56210993],\n",
              "       [0.43406483, 0.18320918, 0.40014093, 0.0867727 , 0.43235353],\n",
              "       [0.20656332, 0.33168915, 0.588182  , 0.04086974, 0.27209583],\n",
              "       [0.92883028, 0.04358768, 0.31548218, 0.59935575, 0.24310449],\n",
              "       [0.67334407, 1.        , 0.42379706, 0.43970203, 0.71713308],\n",
              "       [0.93426616, 0.99224884, 0.59714113, 0.46144554, 0.15673445],\n",
              "       [0.69045702, 0.65059392, 0.89561103, 0.63418563, 0.61465673]])"
            ]
          },
          "metadata": {},
          "execution_count": 15
        }
      ]
    },
    {
      "cell_type": "markdown",
      "source": [
        "### Q-19: Write a function which will accept 2 arguments.\n",
        "### First: A 1D numpy array arr\n",
        "###Second: An integer n {Please make sure n<=len(arr)}\n",
        "\n",
        "###utput: The output should be the nth largest item out of the array"
      ],
      "metadata": {
        "id": "oI5cWZEFsXGj"
      }
    },
    {
      "cell_type": "code",
      "source": [
        "def nthmax(arr, n):\n",
        "    if n>len(arr):\n",
        "        raise IndexError(\"n is way out of limit\")\n",
        "    arr.sort()\n",
        "    return arr[-n]\n",
        "nthmax(np.array([12,34,40,7,1,0]),2)"
      ],
      "metadata": {
        "colab": {
          "base_uri": "https://localhost:8080/"
        },
        "id": "7ekpEBhDsMQr",
        "outputId": "fcd6f0c2-73ab-4b21-f014-a235c848fde2"
      },
      "execution_count": 16,
      "outputs": [
        {
          "output_type": "execute_result",
          "data": {
            "text/plain": [
              "np.int64(34)"
            ]
          },
          "metadata": {},
          "execution_count": 16
        }
      ]
    },
    {
      "cell_type": "markdown",
      "source": [
        "### Q-20: Create the following pattern without hardcoding. Use only numpy functions and the below input array a."
      ],
      "metadata": {
        "id": "4ZjYDqbjstLM"
      }
    },
    {
      "cell_type": "code",
      "source": [
        "# Input: a = np.array([1,2,3])\n",
        "# Output: array([1, 1, 1, 2, 2, 2, 3, 3, 3, 1, 2, 3, 1, 2, 3, 1, 2, 3])"
      ],
      "metadata": {
        "id": "pbRk2P6esprE"
      },
      "execution_count": 17,
      "outputs": []
    },
    {
      "cell_type": "code",
      "source": [
        "a = np.array([1,2,3])"
      ],
      "metadata": {
        "id": "IpcYIdcOtLN0"
      },
      "execution_count": 18,
      "outputs": []
    },
    {
      "cell_type": "code",
      "source": [
        "np.repeat(a,3)"
      ],
      "metadata": {
        "colab": {
          "base_uri": "https://localhost:8080/"
        },
        "id": "v6DACdFxtNQ0",
        "outputId": "62e0ba9b-3a9b-4505-9018-8ed846d55fdf"
      },
      "execution_count": 19,
      "outputs": [
        {
          "output_type": "execute_result",
          "data": {
            "text/plain": [
              "array([1, 1, 1, 2, 2, 2, 3, 3, 3])"
            ]
          },
          "metadata": {},
          "execution_count": 19
        }
      ]
    },
    {
      "cell_type": "code",
      "source": [
        "np.tile(a,3)"
      ],
      "metadata": {
        "colab": {
          "base_uri": "https://localhost:8080/"
        },
        "id": "Cn1W_x_ktPTT",
        "outputId": "ee9b9aed-b954-40b2-bf77-59c0042100d4"
      },
      "execution_count": 20,
      "outputs": [
        {
          "output_type": "execute_result",
          "data": {
            "text/plain": [
              "array([1, 2, 3, 1, 2, 3, 1, 2, 3])"
            ]
          },
          "metadata": {},
          "execution_count": 20
        }
      ]
    },
    {
      "cell_type": "code",
      "source": [
        "np.hstack([np.repeat(a,3),np.tile(a,3)])"
      ],
      "metadata": {
        "colab": {
          "base_uri": "https://localhost:8080/"
        },
        "id": "p94oQzb4tUC0",
        "outputId": "3b3a47d6-e068-47a5-86f5-3ac657d84e68"
      },
      "execution_count": 22,
      "outputs": [
        {
          "output_type": "execute_result",
          "data": {
            "text/plain": [
              "array([1, 1, 1, 2, 2, 2, 3, 3, 3, 1, 2, 3, 1, 2, 3, 1, 2, 3])"
            ]
          },
          "metadata": {},
          "execution_count": 22
        }
      ]
    },
    {
      "cell_type": "code",
      "source": [],
      "metadata": {
        "id": "QVMQHI0Dtb5j"
      },
      "execution_count": null,
      "outputs": []
    }
  ]
}